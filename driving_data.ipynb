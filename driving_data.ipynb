{
 "cells": [
  {
   "cell_type": "code",
   "execution_count": 63,
   "id": "a2f46458",
   "metadata": {},
   "outputs": [],
   "source": [
    "import os\n",
    "from itertools import islice"
   ]
  },
  {
   "cell_type": "code",
   "execution_count": 64,
   "id": "266bc459",
   "metadata": {},
   "outputs": [],
   "source": [
    "new='./driving_dataset'"
   ]
  },
  {
   "cell_type": "code",
   "execution_count": 65,
   "id": "3921c585",
   "metadata": {},
   "outputs": [],
   "source": [
    "from scipy import pi\n",
    "import matplotlib.pyplot as plt\n",
    "import random"
   ]
  },
  {
   "cell_type": "code",
   "execution_count": 66,
   "id": "a9904184",
   "metadata": {},
   "outputs": [],
   "source": [
    "train=os.path.join(new,'data.txt')\n",
    "x=[]\n",
    "y=[]\n",
    "with open(train) as tr:\n",
    "    for line in islice(tr,None):\n",
    "        path,angle=line.strip().split()\n",
    "        f_path=os.path.join(new,path)\n",
    "        x.append(f_path)\n",
    "        y.append(float(angle)*pi/180)"
   ]
  },
  {
   "cell_type": "code",
   "execution_count": 67,
   "id": "1a4066b6",
   "metadata": {},
   "outputs": [],
   "source": [
    "split=int(0.8*len(y))"
   ]
  },
  {
   "cell_type": "code",
   "execution_count": 68,
   "id": "2596e35b",
   "metadata": {},
   "outputs": [],
   "source": [
    "c=list(zip(x,y))\n",
    "random.shuffle(c)\n",
    "x,y=zip(*c)\n",
    "train_y=y[:split]\n",
    "train_x=x[:split]\n",
    "test_y=y[split:]\n",
    "test_x=x[split:]"
   ]
  },
  {
   "cell_type": "code",
   "execution_count": 69,
   "id": "3dc2d54b",
   "metadata": {},
   "outputs": [
    {
     "data": {
      "image/png": "[encoded data removed]",
      "text/plain": [
       "<Figure size 432x288 with 1 Axes>"
      ]
     },
     "metadata": {
      "needs_background": "light"
     },
     "output_type": "display_data"
    }
   ],
   "source": [
    "plt.hist(train_y,color='cyan',bins=50,histtype='step')\n",
    "plt.hist(test_y,color='red',bins=50,histtype='step')\n",
    "plt.show()"
   ]
  },
  {
   "cell_type": "code",
   "execution_count": 70,
   "id": "f3a9f9fc",
   "metadata": {},
   "outputs": [],
   "source": [
    "import numpy as np"
   ]
  },
  {
   "cell_type": "code",
   "execution_count": 71,
   "id": "669a3b38",
   "metadata": {},
   "outputs": [],
   "source": [
    "train_y_mean=np.mean(train_y)"
   ]
  },
  {
   "cell_type": "code",
   "execution_count": 72,
   "id": "4dc1b645",
   "metadata": {},
   "outputs": [
    {
     "data": {
      "text/plain": [
       "0.029353109188829336"
      ]
     },
     "execution_count": 72,
     "metadata": {},
     "output_type": "execute_result"
    }
   ],
   "source": [
    "train_y_mean"
   ]
  },
  {
   "cell_type": "code",
   "execution_count": 79,
   "id": "f56a1ce1",
   "metadata": {},
   "outputs": [],
   "source": [
    "l=len(y)"
   ]
  },
  {
   "cell_type": "code",
   "execution_count": 80,
   "id": "c772e0f8",
   "metadata": {},
   "outputs": [],
   "source": [
    "import cv2\n",
    "num_train_images = len(train_x)\n",
    "num_val_images = len(test_x)\n",
    "train_batch_pointer=0\n",
    "val_batch_pointer=0"
   ]
  },
  {
   "cell_type": "code",
   "execution_count": 77,
   "id": "e1bf7327",
   "metadata": {},
   "outputs": [],
   "source": [
    "def LoadTrainBatch(batch_size):\n",
    "    global train_batch_pointer\n",
    "    x_out = []\n",
    "    y_out = []\n",
    "    for i in range(0, batch_size):\n",
    "        x_out.append(cv2.resize(cv2.imread(train_x[(train_batch_pointer + i) % num_train_images])[-150:], (200, 66)) / 255.0)\n",
    "        y_out.append([train_y[(train_batch_pointer + i) % num_train_images]])\n",
    "    train_batch_pointer += batch_size\n",
    "    return x_out, y_out"
   ]
  },
  {
   "cell_type": "code",
   "execution_count": 78,
   "id": "90778f0a",
   "metadata": {},
   "outputs": [],
   "source": [
    "def LoadValBatch(batch_size):\n",
    "    global val_batch_pointer\n",
    "    x_out = []\n",
    "    y_out = []\n",
    "    for i in range(0, batch_size):\n",
    "        x_out.append(cv2.resize(cv2.imread(test_x[(val_batch_pointer + i) % num_val_images])[-150:], (200, 66)) / 255.0)\n",
    "        y_out.append([test_y[(val_batch_pointer + i) % num_val_images]])\n",
    "    val_batch_pointer += batch_size\n",
    "    return x_out, y_out\n"
   ]
  },
  {
   "cell_type": "code",
   "execution_count": null,
   "id": "63eddc87",
   "metadata": {},
   "outputs": [],
   "source": []
  },
  {
   "cell_type": "code",
   "execution_count": null,
   "id": "3834ba79",
   "metadata": {},
   "outputs": [],
   "source": []
  }
 ],
 "metadata": {
  "kernelspec": {
   "display_name": "Python 3 (ipykernel)",
   "language": "python",
   "name": "python3"
  },
  "language_info": {
   "codemirror_mode": {
    "name": "ipython",
    "version": 3
   },
   "file_extension": ".py",
   "mimetype": "text/x-python",
   "name": "python",
   "nbconvert_exporter": "python",
   "pygments_lexer": "ipython3",
   "version": "3.10.2"
  }
 },
 "nbformat": 4,
 "nbformat_minor": 5
}
